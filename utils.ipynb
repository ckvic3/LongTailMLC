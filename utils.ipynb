{
 "cells": [
  {
   "cell_type": "code",
   "execution_count": 2,
   "metadata": {},
   "outputs": [],
   "source": [
    "import mmcv\n",
    "import numpy as np"
   ]
  },
  {
   "cell_type": "code",
   "execution_count": 8,
   "metadata": {},
   "outputs": [],
   "source": [
    "@mmcv.register_handler('txt')\n",
    "class TxtHandler1(mmcv.BaseFileHandler):\n",
    "\n",
    "    def load_from_fileobj(self, file):\n",
    "        return [line.strip('\\n') for line in file.readlines()]\n",
    "\n",
    "    def dump_to_fileobj(self, obj, file):\n",
    "        for i in range(len(obj)):\n",
    "            file.write(str(obj[i])+'\\n')\n",
    "\n",
    "    def dump_to_str(self, obj, **kwargs):\n",
    "        return str(obj)"
   ]
  },
  {
   "cell_type": "code",
   "execution_count": 6,
   "metadata": {},
   "outputs": [],
   "source": [
    "img_ids = np.load('./appendix/coco/longtail2017/img_ids.npy')\n",
    "mmcv.dump(img_ids,file='./appendix/coco/longtail2017/copyDecoupling/copy_decoupling_img_ids.txt')"
   ]
  },
  {
   "cell_type": "code",
   "execution_count": 2,
   "metadata": {},
   "outputs": [],
   "source": [
    "voc_img_ids = np.load(\"/home/pengpeng/LongTailMLC/appendix/VOCdevkit/longtail2012/single_img_ids.npy\")"
   ]
  },
  {
   "cell_type": "code",
   "execution_count": 7,
   "metadata": {},
   "outputs": [],
   "source": [
    "voc_img_ids =mmcv.load(file=\"/home/pengpeng/LongTailMLC/appendix/VOCdevkit/longtail2012/copyDecoupling/img_ids.txt\")\n",
    "mmcv.dump(voc_img_ids,file=\"/home/pengpeng/LongTailMLC/appendix/VOCdevkit/longtail2012/copyDecoupling/img_ids.pkl\")"
   ]
  },
  {
   "cell_type": "code",
   "execution_count": 9,
   "metadata": {},
   "outputs": [],
   "source": [
    "coco_img_ids = mmcv.load(\"/home/pengpeng/LongTailMLC/appendix/coco/longtail2017/img_id.txt\")"
   ]
  },
  {
   "cell_type": "code",
   "execution_count": 10,
   "metadata": {},
   "outputs": [
    {
     "name": "stdout",
     "output_type": "stream",
     "text": [
      "1909\n"
     ]
    }
   ],
   "source": [
    "print(len(coco_img_ids))"
   ]
  },
  {
   "cell_type": "code",
   "execution_count": 15,
   "metadata": {},
   "outputs": [],
   "source": [
    "data = mmcv.load(\"/home/pengpeng/LTMC/appendix/coco/longtail2017/class_split.pkl\")"
   ]
  },
  {
   "cell_type": "code",
   "execution_count": 16,
   "metadata": {},
   "outputs": [
    {
     "name": "stdout",
     "output_type": "stream",
     "text": [
      "dict_keys(['head', 'middle', 'tail'])\n"
     ]
    }
   ],
   "source": [
    "print(data.keys())"
   ]
  },
  {
   "cell_type": "code",
   "execution_count": 17,
   "metadata": {},
   "outputs": [
    {
     "name": "stdout",
     "output_type": "stream",
     "text": [
      "{'head': {0, 2, 24, 26, 39, 41, 42, 43, 44, 45, 56, 57, 58, 60, 62, 63, 67, 69, 71, 72, 73, 75}, 'middle': {1, 3, 5, 7, 8, 9, 13, 15, 16, 25, 27, 28, 32, 34, 35, 38, 40, 46, 47, 48, 49, 50, 51, 53, 55, 59, 61, 64, 65, 66, 68, 74, 77}, 'tail': {4, 6, 10, 11, 12, 14, 17, 18, 19, 20, 21, 22, 23, 29, 30, 31, 33, 36, 37, 52, 54, 70, 76, 78, 79}}\n"
     ]
    }
   ],
   "source": [
    "print(data)"
   ]
  },
  {
   "cell_type": "code",
   "execution_count": null,
   "metadata": {},
   "outputs": [],
   "source": [
    "group_ids = mmcv.load(\"/home/pengpeng/LongTailMLC/appendix/coco/IncLearning/group_ids.pkl\")\n",
    "print(group_ids)"
   ]
  },
  {
   "cell_type": "code",
   "execution_count": 30,
   "metadata": {},
   "outputs": [],
   "source": [
    "data= mmcv.load(\"/home/pengpeng/LongTailMLC/appendix/coco/longtail2017/metadata.pkl\")"
   ]
  },
  {
   "cell_type": "code",
   "execution_count": 34,
   "metadata": {},
   "outputs": [
    {
     "name": "stdout",
     "output_type": "stream",
     "text": [
      "dict_keys(['gt_labels', 'class_freq', 'neg_class_freq', 'condition_prob', 'img_ids', 'cls_data_list', 'class_split'])\n",
      "[[0, 2, 24, 26, 39, 41, 42, 43, 44, 45, 56, 57, 58, 60, 62, 63, 67, 69, 71, 72, 73, 75], [1, 3, 5, 7, 8, 9, 13, 15, 16, 25, 27, 28, 32, 34, 35, 38, 40, 46, 47, 48, 49, 50, 51, 53, 55, 59, 61, 64, 65, 66, 68, 74, 77], [4, 6, 10, 11, 12, 14, 17, 18, 19, 20, 21, 22, 23, 29, 30, 31, 33, 36, 37, 52, 54, 70, 76, 78, 79]]\n"
     ]
    }
   ],
   "source": [
    "print(data.keys())\n",
    "print(data['class_split'])"
   ]
  },
  {
   "cell_type": "code",
   "execution_count": 2,
   "metadata": {},
   "outputs": [],
   "source": [
    "from dataset import ClassAwareSampler,getCOCODataset,getVocDataset\n",
    "import torch"
   ]
  },
  {
   "cell_type": "code",
   "execution_count": 4,
   "metadata": {},
   "outputs": [
    {
     "name": "stdout",
     "output_type": "stream",
     "text": [
      "len(train_dataset)):  2346\n",
      "len(val_dataset)):  4952\n"
     ]
    }
   ],
   "source": [
    "trainDataset,testDataset = getVocDataset(useCopyDecoupling=True)"
   ]
  },
  {
   "cell_type": "code",
   "execution_count": 6,
   "metadata": {},
   "outputs": [],
   "source": [
    "# sampler = ClassAwareSampler(data_source=trainDataset,clsDataListFile=\"/home/pengpeng/LongTailMLC/appendix/VOCdevkit/longtail2012/class_freq.pkl\",num_classes=20)\n",
    "dataloader = torch.utils.data.DataLoader(trainDataset,batch_size=32,shuffle=False,sampler=None)"
   ]
  },
  {
   "cell_type": "code",
   "execution_count": 8,
   "metadata": {},
   "outputs": [
    {
     "name": "stdout",
     "output_type": "stream",
     "text": [
      "0\n",
      "1\n",
      "2\n",
      "3\n",
      "4\n",
      "5\n",
      "6\n",
      "7\n",
      "8\n",
      "9\n",
      "10\n",
      "11\n",
      "12\n",
      "13\n",
      "14\n",
      "15\n",
      "16\n",
      "17\n",
      "18\n",
      "19\n",
      "20\n",
      "21\n",
      "22\n",
      "23\n",
      "24\n",
      "25\n",
      "26\n",
      "27\n",
      "28\n",
      "29\n",
      "30\n",
      "31\n",
      "32\n",
      "33\n",
      "34\n",
      "35\n",
      "36\n",
      "37\n",
      "38\n",
      "39\n",
      "40\n",
      "41\n",
      "42\n",
      "43\n",
      "44\n",
      "45\n",
      "46\n",
      "47\n",
      "48\n",
      "49\n",
      "50\n",
      "51\n",
      "52\n",
      "53\n",
      "54\n",
      "55\n",
      "56\n",
      "57\n",
      "58\n",
      "59\n",
      "60\n",
      "61\n",
      "62\n",
      "63\n",
      "64\n",
      "65\n",
      "66\n",
      "67\n",
      "68\n",
      "69\n",
      "70\n",
      "71\n",
      "72\n",
      "73\n"
     ]
    }
   ],
   "source": [
    "for i,(img,target,mask) in enumerate(dataloader):\n",
    "    print(i)"
   ]
  },
  {
   "cell_type": "code",
   "execution_count": 71,
   "metadata": {},
   "outputs": [
    {
     "name": "stdout",
     "output_type": "stream",
     "text": [
      "len(train_dataset)):  1142\n",
      "len(val_dataset)):  4952\n"
     ]
    }
   ],
   "source": [
    "trainDataset, testDataset = getVocDataset(useCopyDecoupling=False)"
   ]
  },
  {
   "cell_type": "code",
   "execution_count": 11,
   "metadata": {},
   "outputs": [
    {
     "name": "stdout",
     "output_type": "stream",
     "text": [
      "(1142,)\n"
     ]
    }
   ],
   "source": [
    "import numpy as np\n",
    "class_aware_weight = np.load(\"/home/pengpeng/LongTailMLC/appendix/VOCdevkit/longtail2012/class_aware_weights.npy\")\n",
    "print(class_aware_weight.shape)"
   ]
  },
  {
   "cell_type": "code",
   "execution_count": 13,
   "metadata": {},
   "outputs": [],
   "source": [
    "import mmcv"
   ]
  },
  {
   "cell_type": "code",
   "execution_count": 18,
   "metadata": {},
   "outputs": [
    {
     "name": "stdout",
     "output_type": "stream",
     "text": [
      "(1142, 20)\n"
     ]
    }
   ],
   "source": [
    "class_freq = mmcv.load(\"/home/pengpeng/LongTailMLC/appendix/VOCdevkit/longtail2012/class_freq.pkl\")\n",
    "gt_labels = class_freq['gt_labels']\n",
    "arr = np.array(gt_labels)\n",
    "print(arr.shape)"
   ]
  },
  {
   "cell_type": "code",
   "execution_count": 19,
   "metadata": {},
   "outputs": [
    {
     "name": "stdout",
     "output_type": "stream",
     "text": [
      "(2346, 20)\n"
     ]
    }
   ],
   "source": [
    "mask = np.load(\"/home/pengpeng/LongTailMLC/appendix/VOCdevkit/longtail2012/copyDecoupling/masks.npy\")\n",
    "print(mask.shape)"
   ]
  },
  {
   "cell_type": "code",
   "execution_count": 23,
   "metadata": {},
   "outputs": [
    {
     "name": "stdout",
     "output_type": "stream",
     "text": [
      "8316\n"
     ]
    }
   ],
   "source": [
    "# 用于ClassAwareSampling 中制作cls_data_list\n",
    "class_freq = mmcv.load(\"/home/pengpeng/LongTailMLC/appendix/coco/longtail2017/class_freq.pkl\")\n",
    "gt_labels = class_freq['gt_labels']\n",
    "arr = np.array(gt_labels)\n",
    "num_classes = arr.shape[1]\n",
    "cls_data_list = [list() for i in range(num_classes)]\n",
    "cur = 0\n",
    "for i in range(arr.shape[0]):\n",
    "    for j in range(num_classes):\n",
    "        if arr[i][j] == 1:\n",
    "            cls_data_list[j].append(cur)\n",
    "            cur += 1\n",
    "print(cur)"
   ]
  },
  {
   "cell_type": "code",
   "execution_count": 24,
   "metadata": {},
   "outputs": [],
   "source": [
    "mmcv.dump({'cls_data_list':cls_data_list},\"/home/pengpeng/LongTailMLC/appendix/coco/longtail2017/copyDecoupling/cls_data_list.pkl\")"
   ]
  }
 ],
 "metadata": {
  "kernelspec": {
   "display_name": "base",
   "language": "python",
   "name": "python3"
  },
  "language_info": {
   "codemirror_mode": {
    "name": "ipython",
    "version": 3
   },
   "file_extension": ".py",
   "mimetype": "text/x-python",
   "name": "python",
   "nbconvert_exporter": "python",
   "pygments_lexer": "ipython3",
   "version": "3.9.7"
  },
  "orig_nbformat": 4,
  "vscode": {
   "interpreter": {
    "hash": "e4dbafc40d2484690a4d53716bd3f6fed5b23010f462f93ed1087f9ca6c47bf3"
   }
  }
 },
 "nbformat": 4,
 "nbformat_minor": 2
}
